{
 "cells": [
  {
   "cell_type": "markdown",
   "metadata": {},
   "source": [
    "Άσκηση: Υπολογίστε την ενέργεια του κβαντικού ταλαντωτή σε διάφορες καταστάσεις (n = 0, 1, 2, ...) χρησιμοποιώντας τη φόρμουλα:\n",
    "\n",
    "\n",
    "$$E_n=(n+\\frac{1}{2})\\hbar \\omega$$\n",
    "για τα πρώτα 5 επίπεδα (n = 0 έως 4) και να τις εκτυπώσετε"
   ]
  },
  {
   "cell_type": "code",
   "execution_count": 13,
   "metadata": {},
   "outputs": [
    {
     "name": "stdout",
     "output_type": "stream",
     "text": [
      "Για το n=0, η ενέργεια E_n είναι: 5.272859e-35 Joules\n",
      "Για το n=1, η ενέργεια E_n είναι: 1.5818577e-34 Joules\n",
      "Για το n=2, η ενέργεια E_n είναι: 2.6364295e-34 Joules\n",
      "Για το n=3, η ενέργεια E_n είναι: 3.6910013e-34 Joules\n",
      "Για το n=4, η ενέργεια E_n είναι: 4.7455731e-34 Joules\n"
     ]
    }
   ],
   "source": [
    "# Constants\n",
    "h_bar = 1.0545718e-34  # h_bar (ℏ): Planck's reduced constant (J·s)\n",
    "omega = 1.0  # Angular frequency (set to 1.0 for this exercise)\n",
    "\n",
    "# n: Quantum number, starting at 0 (ground state)\n",
    "n = 0\n",
    "\n",
    "# Loop runs 5 times (n = 0 to 4)\n",
    "while n < 5:\n",
    "    E_n = (n + 1/2) * h_bar * omega # Calculates energy for current quantum number n\n",
    "    print(f\"Για το n={n}, η ενέργεια E_n είναι: {E_n} Joules\") # Prints the result in Joules\n",
    "    n += 1  # Increments n by 1 for the next iteration"
   ]
  }
 ],
 "metadata": {
  "kernelspec": {
   "display_name": "Python [conda env:base] *",
   "language": "python",
   "name": "conda-base-py"
  },
  "language_info": {
   "codemirror_mode": {
    "name": "ipython",
    "version": 3
   },
   "file_extension": ".py",
   "mimetype": "text/x-python",
   "name": "python",
   "nbconvert_exporter": "python",
   "pygments_lexer": "ipython3",
   "version": "3.12.7"
  }
 },
 "nbformat": 4,
 "nbformat_minor": 4
}
